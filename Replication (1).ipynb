{
  "nbformat": 4,
  "nbformat_minor": 0,
  "metadata": {
    "colab": {
      "provenance": []
    },
    "kernelspec": {
      "name": "python3",
      "display_name": "Python 3"
    },
    "language_info": {
      "name": "python"
    }
  },
  "cells": [
    {
      "cell_type": "code",
      "execution_count": null,
      "metadata": {
        "id": "22P9nBzAyQ9Z"
      },
      "outputs": [],
      "source": [
        "# import data and rename coloumns\n",
        "file_path = \"D:/470Final/didfinal.csv\"\n",
        "df = pd.read_csv(file_path, parse_dates=['date'])\n",
        "\n",
        "df.rename(columns={'BUYER_DEA_NO':'buyer', 'allunits':'total_units','units':'total_oxy', 'Dummy_Before':'pre', 'Dummy_After':'post', 'chaindummy':'chain'}, inplace=True)\n",
        "\n",
        "# View Data\n",
        "print(df.dtypes)\n",
        "print(df.head())"
      ]
    },
    {
      "cell_type": "code",
      "source": [
        "# Splitting the dataset into features and target\n",
        "X = df[['pre', 'post', 'chain']]\n",
        "y = df['total_units']\n",
        "\n",
        "# Adding a constant to the model (intercept)\n",
        "X = sm.add_constant(X)\n",
        "\n",
        "# Fitting the OLS model\n",
        "model = sm.OLS(y, X).fit()\n",
        "\n",
        "# Getting the summary of the model\n",
        "print(model.summary())"
      ],
      "metadata": {
        "id": "9fgar4hWH7tX"
      },
      "execution_count": null,
      "outputs": []
    },
    {
      "cell_type": "code",
      "source": [
        "# VIF dataframe\n",
        "vif_data = pd.DataFrame()\n",
        "vif_data[\"feature\"] = X.columns\n",
        "\n",
        "# Calculating VIF for each feature\n",
        "vif_data[\"VIF\"] = [variance_inflation_factor(X.values, i) for i in range(len(X.columns))]\n",
        "print(vif_data)\n",
        "# Output the variance for each variable\n",
        "print(df.var())\n",
        "# Check for missing values\n",
        "print(df.isnull().sum())"
      ],
      "metadata": {
        "id": "_WlSqt1_H939"
      },
      "execution_count": null,
      "outputs": []
    }
  ]
}
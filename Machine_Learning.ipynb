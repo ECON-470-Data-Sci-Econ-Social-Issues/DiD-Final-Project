{
  "nbformat": 4,
  "nbformat_minor": 0,
  "metadata": {
    "colab": {
      "provenance": []
    },
    "kernelspec": {
      "name": "python3",
      "display_name": "Python 3"
    },
    "language_info": {
      "name": "python"
    }
  },
  "cells": [
    {
      "cell_type": "code",
      "execution_count": null,
      "metadata": {
        "id": "CWYKrsOnydZ4"
      },
      "outputs": [],
      "source": [
        "# import required libraries\n",
        "import pandas as pd\n",
        "import numpy as np\n",
        "import matplotlib.pyplot as plt\n",
        "import statsmodels.api as sm\n",
        "from sklearn.ensemble import GradientBoostingRegressor\n",
        "from sklearn.model_selection import train_test_split\n",
        "from sklearn.metrics import mean_squared_error"
      ]
    },
    {
      "cell_type": "code",
      "source": [
        "# import data and rename coloumns\n",
        "file_path = \"D:/470Final/didfinal02.csv\"\n",
        "df = pd.read_csv(file_path, parse_dates=['date'])\n",
        "\n",
        "df.rename(columns={'BUYER_DEA_NO':'buyer', 'allunits':'total_units','units':'total_oxy', 'Dummy_Before':'pre', 'Dummy_After':'post', 'chaindummy':'chain',\n",
        "                   'unemployment_rate':'unemploy', 'labor_force':'lf'}, inplace=True)\n",
        "\n",
        "# View Data\n",
        "print(df.dtypes)\n",
        "print(df.head())"
      ],
      "metadata": {
        "id": "fVsw24k9ILJ8"
      },
      "execution_count": null,
      "outputs": []
    },
    {
      "cell_type": "code",
      "source": [
        "# Splitting the dataset into features and target\n",
        "X = df[['pre', 'post', 'chain']]\n",
        "y = df['total_oxy']\n",
        "\n",
        "# Splitting data into training and testing sets\n",
        "X_train, X_test, y_train, y_test = train_test_split(X, y, test_size=0.2, random_state=42)\n",
        "\n",
        "\n",
        "\n",
        "# Model training\n",
        "model = GradientBoostingRegressor(random_state=42)\n",
        "model.fit(X_train, y_train)\n",
        "\n",
        "# Evaluate the model with all features\n",
        "predictions = model.predict(X_test)\n",
        "mse = mean_squared_error(y_test, predictions)\n",
        "print(f\"Mean Squared Error: {mse}\")\n",
        "\n",
        "# 1. Feature Importance Plot\n",
        "plt.figure(figsize=(10, 5))\n",
        "feature_importance = model.feature_importances_\n",
        "sorted_idx = np.argsort(feature_importance)\n",
        "plt.barh(range(len(sorted_idx)), feature_importance[sorted_idx], align='center')\n",
        "plt.yticks(range(len(sorted_idx)), X.columns[sorted_idx])\n",
        "plt.title('Feature Importance')\n",
        "plt.xlabel('Importance')\n",
        "plt.ylabel('Feature')\n",
        "plt.show()"
      ],
      "metadata": {
        "id": "q-E0wgx1INZK"
      },
      "execution_count": null,
      "outputs": []
    },
    {
      "cell_type": "code",
      "source": [
        "# Splitting the dataset into features and target\n",
        "X = df[['pre', 'post', 'chain', 'unemploy', 'lf']]\n",
        "y = df['total_oxy']\n",
        "\n",
        "\n",
        "# Splitting data into training and testing sets\n",
        "X_train, X_test, y_train, y_test = train_test_split(X, y, test_size=0.2, random_state=42)\n",
        "\n",
        "\n",
        "\n",
        "# Model training\n",
        "model = GradientBoostingRegressor(random_state=42)\n",
        "model.fit(X_train, y_train)\n",
        "\n",
        "# Evaluate the model with all features\n",
        "predictions = model.predict(X_test)\n",
        "mse = mean_squared_error(y_test, predictions)\n",
        "print(f\"Mean Squared Error: {mse}\")\n",
        "\n",
        "# 1. Feature Importance Plot\n",
        "plt.figure(figsize=(10, 5))\n",
        "feature_importance = model.feature_importances_\n",
        "sorted_idx = np.argsort(feature_importance)\n",
        "plt.barh(range(len(sorted_idx)), feature_importance[sorted_idx], align='center')\n",
        "plt.yticks(range(len(sorted_idx)), X.columns[sorted_idx])\n",
        "plt.title('Feature Importance')\n",
        "plt.xlabel('Importance')\n",
        "plt.ylabel('Feature')\n",
        "plt.show()"
      ],
      "metadata": {
        "id": "1v1G2pm9IP17"
      },
      "execution_count": null,
      "outputs": []
    }
  ]
}